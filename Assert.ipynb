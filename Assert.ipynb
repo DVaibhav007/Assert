{
 "cells": [
  {
   "cell_type": "markdown",
   "id": "c778d99c",
   "metadata": {},
   "source": [
    "# Python Assert"
   ]
  },
  {
   "cell_type": "markdown",
   "id": "2d149e6d",
   "metadata": {},
   "source": [
    "-Python provides the assert statement to check if given logical expression is True or False.\n",
    "-Program execution proceeds only if expression is True else it raises an AssertionError when it is false."
   ]
  },
  {
   "cell_type": "code",
   "execution_count": 5,
   "id": "bcb12f0a",
   "metadata": {},
   "outputs": [
    {
     "name": "stdout",
     "output_type": "stream",
     "text": [
      "Enter the Birth Year: 2000\n",
      "You're Welcome for the concert\n"
     ]
    }
   ],
   "source": [
    "try:\n",
    "    \n",
    "    BirthYear = int(input(\"Enter the Birth Year: \"))\n",
    "    age = 2021 - BirthYear\n",
    "    assert age > 18\n",
    "    print(\"You're Welcome for the concert\")\n",
    "    \n",
    "except AssertionError :\n",
    "    print(\"You cant be allow for this concert\")"
   ]
  },
  {
   "cell_type": "code",
   "execution_count": null,
   "id": "4095f59f",
   "metadata": {},
   "outputs": [],
   "source": []
  }
 ],
 "metadata": {
  "kernelspec": {
   "display_name": "Python 3 (ipykernel)",
   "language": "python",
   "name": "python3"
  },
  "language_info": {
   "codemirror_mode": {
    "name": "ipython",
    "version": 3
   },
   "file_extension": ".py",
   "mimetype": "text/x-python",
   "name": "python",
   "nbconvert_exporter": "python",
   "pygments_lexer": "ipython3",
   "version": "3.9.7"
  }
 },
 "nbformat": 4,
 "nbformat_minor": 5
}
